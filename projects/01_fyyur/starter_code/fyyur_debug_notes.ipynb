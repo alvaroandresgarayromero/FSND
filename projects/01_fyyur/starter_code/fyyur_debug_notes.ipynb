{
 "cells": [
  {
   "cell_type": "code",
   "execution_count": 2,
   "metadata": {
    "collapsed": true
   },
   "outputs": [],
   "source": [
    "# path initialization\n",
    "import sys\n",
    "sys.path.append(\"/home/alvaro/PycharmProjects/FullStack_Project1/FSND/projects/01_fyyur/starter_code\")"
   ]
  },
  {
   "cell_type": "code",
   "execution_count": 3,
   "outputs": [
    {
     "name": "stdout",
     "output_type": "stream",
     "text": [
      "postgresql://postgres@localhost:5432/fyyurapp\n"
     ]
    }
   ],
   "source": [
    "# import variables for quick debugging\n",
    "from app import db, Artist, Venue, Show_Table\n"
   ],
   "metadata": {
    "collapsed": false,
    "pycharm": {
     "name": "#%%\n"
    }
   }
  },
  {
   "cell_type": "code",
   "execution_count": 13,
   "outputs": [
    {
     "data": {
      "text/plain": "list"
     },
     "execution_count": 13,
     "metadata": {},
     "output_type": "execute_result"
    }
   ],
   "source": [
    "artist_lst_of_tuple = list( Artist.query.with_entities(Artist.id, Artist.name))\n",
    "\n",
    "type( artist_lst_of_tuple)"
   ],
   "metadata": {
    "collapsed": false,
    "pycharm": {
     "name": "#%%\n"
    }
   }
  },
  {
   "cell_type": "code",
   "execution_count": 17,
   "outputs": [
    {
     "name": "stdout",
     "output_type": "stream",
     "text": [
      "[{'id': 1, 'name': 'Guns N Petals'}, {'id': 2, 'name': 'Matt Quevedo'}, {'id': 3, 'name': 'The Wild Sax Band'}]\n"
     ]
    }
   ],
   "source": [
    "data = []\n",
    "for (record_id, name) in artist_lst_of_tuple:\n",
    "    element = { 'id':record_id,\n",
    "                'name':name }\n",
    "\n",
    "    data.append(element)\n",
    "\n",
    "print(data)"
   ],
   "metadata": {
    "collapsed": false,
    "pycharm": {
     "name": "#%%\n"
    }
   }
  },
  {
   "cell_type": "code",
   "execution_count": 23,
   "outputs": [
    {
     "name": "stdout",
     "output_type": "stream",
     "text": [
      "['name', 'city', 'state', 'phone', 'genres', 'image_link', 'facebook_link', 'website', 'seeking_venue', 'seeking_description']\n"
     ]
    }
   ],
   "source": [
    "column_names = Artist.__table__.columns.keys()\n",
    "print( column_names[1:])"
   ],
   "metadata": {
    "collapsed": false,
    "pycharm": {
     "name": "#%%\n"
    }
   }
  },
  {
   "cell_type": "code",
   "execution_count": 27,
   "outputs": [
    {
     "name": "stdout",
     "output_type": "stream",
     "text": [
      "['name', 'city', 'state', 'phone', 'genres', 'image_link', 'facebook_link', 'website', 'seeking_venue', 'seeking_description']\n"
     ]
    }
   ],
   "source": [
    "column_names = Artist.__table__.columns.keys()[1:]\n",
    "print( column_names)"
   ],
   "metadata": {
    "collapsed": false,
    "pycharm": {
     "name": "#%%\n"
    }
   }
  },
  {
   "cell_type": "code",
   "execution_count": 31,
   "outputs": [
    {
     "name": "stdout",
     "output_type": "stream",
     "text": [
      "None\n"
     ]
    },
    {
     "data": {
      "text/plain": "NoneType"
     },
     "execution_count": 31,
     "metadata": {},
     "output_type": "execute_result"
    }
   ],
   "source": [
    "obj = Venue.query.get(1)\n",
    "print(obj)\n",
    "type(obj)"
   ],
   "metadata": {
    "collapsed": false,
    "pycharm": {
     "name": "#%%\n"
    }
   }
  },
  {
   "cell_type": "code",
   "execution_count": 3,
   "outputs": [
    {
     "data": {
      "text/plain": "{'_sa_instance_state': <sqlalchemy.orm.state.InstanceState at 0x7f0c58064c70>,\n 'id': 5,\n 'seeking_description': '',\n 'website': 'https://www.parksquarelivemusicandcoffee.com',\n 'image_link': 'https://images.unsplash.com/photo-1485686531765-ba63b07845a7?ixlib=rb-1.2.1&ixid=eyJhcHBfaWQiOjEyMDd9&auto=format&fit=crop&w=747&q=80',\n 'phone': '415-000-1234',\n 'state': 'CA',\n 'name': 'Park Square Live Music & Coffee',\n 'seeking_talent': False,\n 'facebook_link': 'https://www.facebook.com/ParkSquareLiveMusicAndCoffee',\n 'genres': ['Classical', 'Folk', 'Jazz', 'Rock n Roll'],\n 'address': '34 Whiskey Moore Ave',\n 'city': 'San Francisco'}"
     },
     "execution_count": 3,
     "metadata": {},
     "output_type": "execute_result"
    }
   ],
   "source": [
    "obj = Venue.query.get(5)\n",
    "obj.__dict__"
   ],
   "metadata": {
    "collapsed": false,
    "pycharm": {
     "name": "#%%\n"
    }
   }
  },
  {
   "cell_type": "code",
   "execution_count": 18,
   "outputs": [
    {
     "name": "stdout",
     "output_type": "stream",
     "text": [
      "success\n"
     ]
    }
   ],
   "source": [
    "import dateutil.parser\n",
    "\n",
    "timestamp = '1999-03-15 16:04:35'\n",
    "showTime = dateutil.parser.parse(timestamp)\n",
    "\n",
    "\n",
    "\n",
    "try:\n",
    "    show = Show_Table(\n",
    "            venue_id = 4,\n",
    "            artist_id = 3,\n",
    "            start_time = showTime)  #  venue.show_table.start_time = showTime\n",
    "    db.session.add(show)\n",
    "    db.session.commit()\n",
    "    print('success')\n",
    "except:\n",
    "    db.session.rollback()\n",
    "    print('error')\n"
   ],
   "metadata": {
    "collapsed": false,
    "pycharm": {
     "name": "#%%\n"
    }
   }
  },
  {
   "cell_type": "code",
   "execution_count": 45,
   "outputs": [
    {
     "name": "stdout",
     "output_type": "stream",
     "text": [
      "2021-03-16 15:35:34.000399\n",
      "[]\n"
     ]
    }
   ],
   "source": [
    "from datetime import datetime\n",
    "print(datetime.today())\n",
    "timestamp = '2020-03-15 16:04:35'\n",
    "timeThresh = dateutil.parser.parse(timestamp)\n",
    "\n",
    "\n",
    "show_list = Show_Table.query.filter(Show_Table.artist_id == 3).filter( Show_Table.start_time < datetime.today()).all()\n",
    "print(show_list)"
   ],
   "metadata": {
    "collapsed": false,
    "pycharm": {
     "name": "#%%\n"
    }
   }
  },
  {
   "cell_type": "code",
   "execution_count": null,
   "outputs": [],
   "source": [
    "shows = Show_Table.query.all()\n",
    "str( show.start_time )\n"
   ],
   "metadata": {
    "collapsed": false,
    "pycharm": {
     "name": "#%%\n"
    }
   }
  },
  {
   "cell_type": "code",
   "execution_count": 46,
   "outputs": [
    {
     "data": {
      "text/plain": "[{'venue_id': 3,\n  'venue_name': 'The Musical Hop',\n  'artist_id': 1,\n  'artist_name': 'Guns N Petals',\n  'artist_image_link': 'https://images.unsplash.com/photo-1549213783-8284d0336c4f?ixlib=rb-1.2.1&ixid=eyJhcHBfaWQiOjEyMDd9&auto=format&fit=crop&w=300&q=80',\n  'start_time': datetime.datetime(2019, 5, 21, 21, 30)},\n {'venue_id': 5,\n  'venue_name': 'Park Square Live Music & Coffee',\n  'artist_id': 2,\n  'artist_name': 'Matt Quevedo',\n  'artist_image_link': 'https://images.unsplash.com/photo-1495223153807-b916f75de8c5?ixlib=rb-1.2.1&ixid=eyJhcHBfaWQiOjEyMDd9&auto=format&fit=crop&w=334&q=80',\n  'start_time': datetime.datetime(2019, 6, 15, 23, 0)},\n {'venue_id': 5,\n  'venue_name': 'Park Square Live Music & Coffee',\n  'artist_id': 3,\n  'artist_name': 'The Wild Sax Band',\n  'artist_image_link': 'https://images.unsplash.com/photo-1558369981-f9ca78462e61?ixlib=rb-1.2.1&ixid=eyJhcHBfaWQiOjEyMDd9&auto=format&fit=crop&w=794&q=80',\n  'start_time': datetime.datetime(2035, 4, 1, 20, 0)},\n {'venue_id': 5,\n  'venue_name': 'Park Square Live Music & Coffee',\n  'artist_id': 3,\n  'artist_name': 'The Wild Sax Band',\n  'artist_image_link': 'https://images.unsplash.com/photo-1558369981-f9ca78462e61?ixlib=rb-1.2.1&ixid=eyJhcHBfaWQiOjEyMDd9&auto=format&fit=crop&w=794&q=80',\n  'start_time': datetime.datetime(2035, 4, 8, 20, 0)},\n {'venue_id': 5,\n  'venue_name': 'Park Square Live Music & Coffee',\n  'artist_id': 3,\n  'artist_name': 'The Wild Sax Band',\n  'artist_image_link': 'https://images.unsplash.com/photo-1558369981-f9ca78462e61?ixlib=rb-1.2.1&ixid=eyJhcHBfaWQiOjEyMDd9&auto=format&fit=crop&w=794&q=80',\n  'start_time': datetime.datetime(2035, 4, 15, 20, 0)}]"
     },
     "execution_count": 46,
     "metadata": {},
     "output_type": "execute_result"
    }
   ],
   "source": [
    "result = []\n",
    "for show in shows:\n",
    "    element = { \"venue_id\": show.venues.id,\n",
    "               \"venue_name\": show.venues.name,\n",
    "               \"artist_id\": show.artists.id,\n",
    "               \"artist_name\": show.artists.name,\n",
    "               \"artist_image_link\": show.artists.image_link,\n",
    "               \"start_time\": show.start_time }\n",
    "\n",
    "    result.append(element)\n",
    "\n",
    "result\n",
    "\n"
   ],
   "metadata": {
    "collapsed": false,
    "pycharm": {
     "name": "#%%\n"
    }
   }
  },
  {
   "cell_type": "code",
   "execution_count": 53,
   "outputs": [
    {
     "name": "stdout",
     "output_type": "stream",
     "text": [
      "Guns N Petals\n"
     ]
    }
   ],
   "source": [
    "name = 'Guns N Petals'\n",
    "if 'A'.upper() in name.upper():\n",
    "    print(name)"
   ],
   "metadata": {
    "collapsed": false,
    "pycharm": {
     "name": "#%%\n"
    }
   }
  },
  {
   "cell_type": "code",
   "execution_count": 81,
   "outputs": [
    {
     "name": "stdout",
     "output_type": "stream",
     "text": [
      "['New York', 'San Francisco']\n"
     ]
    }
   ],
   "source": [
    "venues_list_of_tuple = Venue.query.with_entities(Venue.city, Venue).group_by(Venue.city, Venue).all()\n",
    "\n",
    "cities = Venue.query.with_entities(Venue.city).group_by(Venue.city).all()\n",
    "\n",
    "cities_lst = list(map(lambda x:x[0], cities))\n",
    "print(cities_lst)"
   ],
   "metadata": {
    "collapsed": false,
    "pycharm": {
     "name": "#%%\n"
    }
   }
  },
  {
   "cell_type": "code",
   "execution_count": 7,
   "outputs": [
    {
     "name": "stdout",
     "output_type": "stream",
     "text": [
      "[{'city': 'San Francisco', 'state': 'CA', 'venues': [{'id': 3, 'name': 'The Musical Hop', 'num_upcoming_shows': 0}, {'id': 5, 'name': 'Park Square Live Music & Coffee', 'num_upcoming_shows': 3}]}, {'city': 'New York', 'state': 'NY', 'venues': [{'id': 4, 'name': 'The Dueling Pianos Bar', 'num_upcoming_shows': 0}]}]\n"
     ]
    }
   ],
   "source": [
    "from datetime import datetime\n",
    "\n",
    "venues_list_of_tuple = Venue.query.with_entities(Venue.city, Venue).group_by(Venue.city, Venue).all()\n",
    "location_lst = Venue.query.with_entities(Venue.city, Venue.state).group_by(Venue.city, Venue.state).all()\n",
    "\n",
    "data = []\n",
    "for (city, state) in location_lst:\n",
    "    element = {\n",
    "        'city': city,\n",
    "        'state': state,\n",
    "        'venues': [] }\n",
    "    data.append(element)\n",
    "\n",
    "total_upcoming_shows = 0\n",
    "for (city, venue) in venues_list_of_tuple:\n",
    "    data_ptr = [ element for element in data if element['city'] == city]\n",
    "\n",
    "    num_upcoming_shows = len(Show_Table.query \\\n",
    "        .filter(Show_Table.venue_id == venue.id) \\\n",
    "        .filter(Show_Table.start_time >= datetime.today()) \\\n",
    "        .all())\n",
    "\n",
    "    total_upcoming_shows = total_upcoming_shows + num_upcoming_shows\n",
    "\n",
    "    new_venue_info ={\n",
    "        \"id\": venue.id,\n",
    "        \"name\": venue.name,\n",
    "        \"num_upcoming_shows\": total_upcoming_shows }\n",
    "\n",
    "    data_ptr[0]['venues'].append(new_venue_info)\n",
    "\n",
    "print(data)"
   ],
   "metadata": {
    "collapsed": false,
    "pycharm": {
     "name": "#%%\n"
    }
   }
  },
  {
   "cell_type": "code",
   "execution_count": 6,
   "outputs": [],
   "source": [
    "db.session.rollback()"
   ],
   "metadata": {
    "collapsed": false,
    "pycharm": {
     "name": "#%%\n"
    }
   }
  }
 ],
 "metadata": {
  "kernelspec": {
   "display_name": "Python 3",
   "language": "python",
   "name": "python3"
  },
  "language_info": {
   "codemirror_mode": {
    "name": "ipython",
    "version": 2
   },
   "file_extension": ".py",
   "mimetype": "text/x-python",
   "name": "python",
   "nbconvert_exporter": "python",
   "pygments_lexer": "ipython2",
   "version": "2.7.6"
  }
 },
 "nbformat": 4,
 "nbformat_minor": 0
}