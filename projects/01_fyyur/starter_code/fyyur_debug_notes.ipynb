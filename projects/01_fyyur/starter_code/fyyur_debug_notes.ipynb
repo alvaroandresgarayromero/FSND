{
 "cells": [
  {
   "cell_type": "code",
   "execution_count": 1,
   "metadata": {
    "collapsed": true
   },
   "outputs": [],
   "source": [
    "# path initialization\n",
    "import sys\n",
    "sys.path.append(\"/home/alvaro/PycharmProjects/FullStack_Project1/FSND/projects/01_fyyur/starter_code\")"
   ]
  },
  {
   "cell_type": "code",
   "execution_count": 3,
   "outputs": [],
   "source": [
    "# import variables for quick debugging\n",
    "from app import db, Artist, Venue, Show_Table\n",
    "from datetime import datetime\n",
    "import logging\n"
   ],
   "metadata": {
    "collapsed": false,
    "pycharm": {
     "name": "#%%\n"
    }
   }
  },
  {
   "cell_type": "code",
   "execution_count": 13,
   "outputs": [
    {
     "data": {
      "text/plain": "list"
     },
     "execution_count": 13,
     "metadata": {},
     "output_type": "execute_result"
    }
   ],
   "source": [
    "artist_lst_of_tuple = list( Artist.query.with_entities(Artist.id, Artist.name))\n",
    "\n",
    "type( artist_lst_of_tuple)"
   ],
   "metadata": {
    "collapsed": false,
    "pycharm": {
     "name": "#%%\n"
    }
   }
  },
  {
   "cell_type": "code",
   "execution_count": 17,
   "outputs": [
    {
     "name": "stdout",
     "output_type": "stream",
     "text": [
      "[{'id': 1, 'name': 'Guns N Petals'}, {'id': 2, 'name': 'Matt Quevedo'}, {'id': 3, 'name': 'The Wild Sax Band'}]\n"
     ]
    }
   ],
   "source": [
    "data = []\n",
    "for (record_id, name) in artist_lst_of_tuple:\n",
    "    element = { 'id':record_id,\n",
    "                'name':name }\n",
    "\n",
    "    data.append(element)\n",
    "\n",
    "print(data)"
   ],
   "metadata": {
    "collapsed": false,
    "pycharm": {
     "name": "#%%\n"
    }
   }
  },
  {
   "cell_type": "code",
   "execution_count": 23,
   "outputs": [
    {
     "name": "stdout",
     "output_type": "stream",
     "text": [
      "['name', 'city', 'state', 'phone', 'genres', 'image_link', 'facebook_link', 'website', 'seeking_venue', 'seeking_description']\n"
     ]
    }
   ],
   "source": [
    "column_names = Artist.__table__.columns.keys()\n",
    "print( column_names[1:])"
   ],
   "metadata": {
    "collapsed": false,
    "pycharm": {
     "name": "#%%\n"
    }
   }
  },
  {
   "cell_type": "code",
   "execution_count": 27,
   "outputs": [
    {
     "name": "stdout",
     "output_type": "stream",
     "text": [
      "['name', 'city', 'state', 'phone', 'genres', 'image_link', 'facebook_link', 'website', 'seeking_venue', 'seeking_description']\n"
     ]
    }
   ],
   "source": [
    "column_names = Artist.__table__.columns.keys()[1:]\n",
    "print( column_names)"
   ],
   "metadata": {
    "collapsed": false,
    "pycharm": {
     "name": "#%%\n"
    }
   }
  },
  {
   "cell_type": "code",
   "execution_count": 31,
   "outputs": [
    {
     "name": "stdout",
     "output_type": "stream",
     "text": [
      "None\n"
     ]
    },
    {
     "data": {
      "text/plain": "NoneType"
     },
     "execution_count": 31,
     "metadata": {},
     "output_type": "execute_result"
    }
   ],
   "source": [
    "obj = Venue.query.get(1)\n",
    "print(obj)\n",
    "type(obj)"
   ],
   "metadata": {
    "collapsed": false,
    "pycharm": {
     "name": "#%%\n"
    }
   }
  },
  {
   "cell_type": "code",
   "execution_count": 3,
   "outputs": [
    {
     "data": {
      "text/plain": "{'_sa_instance_state': <sqlalchemy.orm.state.InstanceState at 0x7f0c58064c70>,\n 'id': 5,\n 'seeking_description': '',\n 'website': 'https://www.parksquarelivemusicandcoffee.com',\n 'image_link': 'https://images.unsplash.com/photo-1485686531765-ba63b07845a7?ixlib=rb-1.2.1&ixid=eyJhcHBfaWQiOjEyMDd9&auto=format&fit=crop&w=747&q=80',\n 'phone': '415-000-1234',\n 'state': 'CA',\n 'name': 'Park Square Live Music & Coffee',\n 'seeking_talent': False,\n 'facebook_link': 'https://www.facebook.com/ParkSquareLiveMusicAndCoffee',\n 'genres': ['Classical', 'Folk', 'Jazz', 'Rock n Roll'],\n 'address': '34 Whiskey Moore Ave',\n 'city': 'San Francisco'}"
     },
     "execution_count": 3,
     "metadata": {},
     "output_type": "execute_result"
    }
   ],
   "source": [
    "obj = Venue.query.get(5)\n",
    "obj.__dict__"
   ],
   "metadata": {
    "collapsed": false,
    "pycharm": {
     "name": "#%%\n"
    }
   }
  },
  {
   "cell_type": "code",
   "execution_count": 18,
   "outputs": [
    {
     "name": "stdout",
     "output_type": "stream",
     "text": [
      "success\n"
     ]
    }
   ],
   "source": [
    "import dateutil.parser\n",
    "\n",
    "timestamp = '1999-03-15 16:04:35'\n",
    "showTime = dateutil.parser.parse(timestamp)\n",
    "\n",
    "\n",
    "\n",
    "try:\n",
    "    show = Show_Table(\n",
    "            venue_id = 4,\n",
    "            artist_id = 3,\n",
    "            start_time = showTime)  #  venue.show_table.start_time = showTime\n",
    "    db.session.add(show)\n",
    "    db.session.commit()\n",
    "    print('success')\n",
    "except:\n",
    "    db.session.rollback()\n",
    "    print('error')\n"
   ],
   "metadata": {
    "collapsed": false,
    "pycharm": {
     "name": "#%%\n"
    }
   }
  },
  {
   "cell_type": "code",
   "execution_count": 45,
   "outputs": [
    {
     "name": "stdout",
     "output_type": "stream",
     "text": [
      "2021-03-16 15:35:34.000399\n",
      "[]\n"
     ]
    }
   ],
   "source": [
    "from datetime import datetime\n",
    "print(datetime.today())\n",
    "timestamp = '2020-03-15 16:04:35'\n",
    "timeThresh = dateutil.parser.parse(timestamp)\n",
    "\n",
    "\n",
    "show_list = Show_Table.query.filter(Show_Table.artist_id == 3).filter( Show_Table.start_time < datetime.today()).all()\n",
    "print(show_list)"
   ],
   "metadata": {
    "collapsed": false,
    "pycharm": {
     "name": "#%%\n"
    }
   }
  },
  {
   "cell_type": "code",
   "execution_count": null,
   "outputs": [],
   "source": [
    "shows = Show_Table.query.all()\n",
    "str( show.start_time )\n"
   ],
   "metadata": {
    "collapsed": false,
    "pycharm": {
     "name": "#%%\n"
    }
   }
  },
  {
   "cell_type": "code",
   "execution_count": 46,
   "outputs": [
    {
     "data": {
      "text/plain": "[{'venue_id': 3,\n  'venue_name': 'The Musical Hop',\n  'artist_id': 1,\n  'artist_name': 'Guns N Petals',\n  'artist_image_link': 'https://images.unsplash.com/photo-1549213783-8284d0336c4f?ixlib=rb-1.2.1&ixid=eyJhcHBfaWQiOjEyMDd9&auto=format&fit=crop&w=300&q=80',\n  'start_time': datetime.datetime(2019, 5, 21, 21, 30)},\n {'venue_id': 5,\n  'venue_name': 'Park Square Live Music & Coffee',\n  'artist_id': 2,\n  'artist_name': 'Matt Quevedo',\n  'artist_image_link': 'https://images.unsplash.com/photo-1495223153807-b916f75de8c5?ixlib=rb-1.2.1&ixid=eyJhcHBfaWQiOjEyMDd9&auto=format&fit=crop&w=334&q=80',\n  'start_time': datetime.datetime(2019, 6, 15, 23, 0)},\n {'venue_id': 5,\n  'venue_name': 'Park Square Live Music & Coffee',\n  'artist_id': 3,\n  'artist_name': 'The Wild Sax Band',\n  'artist_image_link': 'https://images.unsplash.com/photo-1558369981-f9ca78462e61?ixlib=rb-1.2.1&ixid=eyJhcHBfaWQiOjEyMDd9&auto=format&fit=crop&w=794&q=80',\n  'start_time': datetime.datetime(2035, 4, 1, 20, 0)},\n {'venue_id': 5,\n  'venue_name': 'Park Square Live Music & Coffee',\n  'artist_id': 3,\n  'artist_name': 'The Wild Sax Band',\n  'artist_image_link': 'https://images.unsplash.com/photo-1558369981-f9ca78462e61?ixlib=rb-1.2.1&ixid=eyJhcHBfaWQiOjEyMDd9&auto=format&fit=crop&w=794&q=80',\n  'start_time': datetime.datetime(2035, 4, 8, 20, 0)},\n {'venue_id': 5,\n  'venue_name': 'Park Square Live Music & Coffee',\n  'artist_id': 3,\n  'artist_name': 'The Wild Sax Band',\n  'artist_image_link': 'https://images.unsplash.com/photo-1558369981-f9ca78462e61?ixlib=rb-1.2.1&ixid=eyJhcHBfaWQiOjEyMDd9&auto=format&fit=crop&w=794&q=80',\n  'start_time': datetime.datetime(2035, 4, 15, 20, 0)}]"
     },
     "execution_count": 46,
     "metadata": {},
     "output_type": "execute_result"
    }
   ],
   "source": [
    "result = []\n",
    "for show in shows:\n",
    "    element = { \"venue_id\": show.venues.id,\n",
    "               \"venue_name\": show.venues.name,\n",
    "               \"artist_id\": show.artists.id,\n",
    "               \"artist_name\": show.artists.name,\n",
    "               \"artist_image_link\": show.artists.image_link,\n",
    "               \"start_time\": show.start_time }\n",
    "\n",
    "    result.append(element)\n",
    "\n",
    "result\n",
    "\n"
   ],
   "metadata": {
    "collapsed": false,
    "pycharm": {
     "name": "#%%\n"
    }
   }
  },
  {
   "cell_type": "code",
   "execution_count": 53,
   "outputs": [
    {
     "name": "stdout",
     "output_type": "stream",
     "text": [
      "Guns N Petals\n"
     ]
    }
   ],
   "source": [
    "name = 'Guns N Petals'\n",
    "if 'A'.upper() in name.upper():\n",
    "    print(name)"
   ],
   "metadata": {
    "collapsed": false,
    "pycharm": {
     "name": "#%%\n"
    }
   }
  },
  {
   "cell_type": "code",
   "execution_count": 9,
   "outputs": [
    {
     "name": "stdout",
     "output_type": "stream",
     "text": [
      "['New York', 'San Francisco']\n"
     ]
    }
   ],
   "source": [
    "venues_list_of_tuple = Venue.query.with_entities(Venue.city, Venue).group_by(Venue.city, Venue).all()\n",
    "\n",
    "cities = Venue.query.with_entities(Venue.city).group_by(Venue.city).all()\n",
    "\n",
    "cities_lst = list(map(lambda x:x[0], cities))\n",
    "print(cities_lst)"
   ],
   "metadata": {
    "collapsed": false,
    "pycharm": {
     "name": "#%%\n"
    }
   }
  },
  {
   "cell_type": "code",
   "execution_count": 7,
   "outputs": [
    {
     "name": "stdout",
     "output_type": "stream",
     "text": [
      "[{'city': 'San Francisco', 'state': 'CA', 'venues': [{'id': 3, 'name': 'The Musical Hop', 'num_upcoming_shows': 0}, {'id': 5, 'name': 'Park Square Live Music & Coffee', 'num_upcoming_shows': 3}]}, {'city': 'New York', 'state': 'NY', 'venues': [{'id': 4, 'name': 'The Dueling Pianos Bar', 'num_upcoming_shows': 0}]}]\n"
     ]
    }
   ],
   "source": [
    "from datetime import datetime\n",
    "\n",
    "venues_list_of_tuple = Venue.query.with_entities(Venue.city, Venue).group_by(Venue.city, Venue).all()\n",
    "location_lst = Venue.query.with_entities(Venue.city, Venue.state).group_by(Venue.city, Venue.state).all()\n",
    "\n",
    "data = []\n",
    "for (city, state) in location_lst:\n",
    "    element = {\n",
    "        'city': city,\n",
    "        'state': state,\n",
    "        'venues': [] }\n",
    "    data.append(element)\n",
    "\n",
    "total_upcoming_shows = 0\n",
    "for (city, venue) in venues_list_of_tuple:\n",
    "    data_ptr = [ element for element in data if element['city'] == city]\n",
    "\n",
    "    num_upcoming_shows = len(Show_Table.query \\\n",
    "        .filter(Show_Table.venue_id == venue.id) \\\n",
    "        .filter(Show_Table.start_time >= datetime.today()) \\\n",
    "        .all())\n",
    "\n",
    "    total_upcoming_shows = total_upcoming_shows + num_upcoming_shows\n",
    "\n",
    "    new_venue_info ={\n",
    "        \"id\": venue.id,\n",
    "        \"name\": venue.name,\n",
    "        \"num_upcoming_shows\": total_upcoming_shows }\n",
    "\n",
    "    data_ptr[0]['venues'].append(new_venue_info)\n",
    "\n",
    "print(data)"
   ],
   "metadata": {
    "collapsed": false,
    "pycharm": {
     "name": "#%%\n"
    }
   }
  },
  {
   "cell_type": "code",
   "execution_count": 125,
   "outputs": [],
   "source": [
    "db.session.rollback()"
   ],
   "metadata": {
    "collapsed": false,
    "pycharm": {
     "name": "#%%\n"
    }
   }
  },
  {
   "cell_type": "code",
   "execution_count": 49,
   "outputs": [
    {
     "name": "stdout",
     "output_type": "stream",
     "text": [
      "[< [Venue] id: 3, genres: ['Classical', 'Folk', 'Jazz', 'Reggae', 'Swing'] >, < [Venue] id: 5, genres: ['Classical', 'Folk', 'Jazz', 'Rock n Roll'] >, < [Venue] id: 4, genres: ['Classical', 'Hip-Hop', 'R&B'] >]\n"
     ]
    }
   ],
   "source": [
    "#q = db.session.query(Venue).join(Venue.shows).all()\n",
    "q = db.session.query(Venue).outerjoin(Show_Table).all()\n",
    "\n",
    "\n",
    "print( q )"
   ],
   "metadata": {
    "collapsed": false,
    "pycharm": {
     "name": "#%%\n"
    }
   }
  },
  {
   "cell_type": "code",
   "execution_count": 52,
   "outputs": [
    {
     "name": "stdout",
     "output_type": "stream",
     "text": [
      "[('New York', < [Venue] id: 4, genres: ['Classical', 'Hip-Hop', 'R&B'] >), ('San Francisco', < [Venue] id: 3, genres: ['Classical', 'Folk', 'Jazz', 'Reggae', 'Swing'] >), ('San Francisco', < [Venue] id: 5, genres: ['Classical', 'Folk', 'Jazz', 'Rock n Roll'] >)]\n"
     ]
    }
   ],
   "source": [
    "q = db.session.query(Venue).outerjoin(Show_Table) \\\n",
    "        .with_entities(Venue.city, Venue).group_by(Venue.city, Venue).all()\n",
    "print(q)"
   ],
   "metadata": {
    "collapsed": false,
    "pycharm": {
     "name": "#%%\n"
    }
   }
  },
  {
   "cell_type": "code",
   "execution_count": 75,
   "outputs": [
    {
     "name": "stdout",
     "output_type": "stream",
     "text": [
      "[]\n"
     ]
    }
   ],
   "source": [
    "q = Venue.query.outerjoin(Show_Table)\\\n",
    "        .with_entities(Venue.city, Venue).group_by(Venue.city, Venue).all()\n",
    "\n",
    "print(q[0].Venue.shows)"
   ],
   "metadata": {
    "collapsed": false,
    "pycharm": {
     "name": "#%%\n"
    }
   }
  },
  {
   "cell_type": "code",
   "execution_count": 53,
   "outputs": [
    {
     "name": "stdout",
     "output_type": "stream",
     "text": [
      "[('San Francisco', < [Venue] id: 5, genres: ['Classical', 'Folk', 'Jazz', 'Rock n Roll'] >)]\n"
     ]
    }
   ],
   "source": [
    "upcoming_shows_table = Show_Table.query\\\n",
    "                                 .filter(Show_Table.start_time >= datetime.today())\\\n",
    "                                 .all()\n",
    "Show_Table\n",
    "q = Venue.query.outerjoin(Show_Table).with_entities(Venue.city, Venue)\\\n",
    "        .group_by(Venue.city, Venue).having(  db.func.count(Show_Table.start_time >= datetime.today()) >1).all()\n",
    "\n",
    "print(q)"
   ],
   "metadata": {
    "collapsed": false,
    "pycharm": {
     "name": "#%%\n"
    }
   }
  },
  {
   "cell_type": "code",
   "execution_count": 145,
   "outputs": [
    {
     "name": "stdout",
     "output_type": "stream",
     "text": [
      "[{'city': 'New York', 'state': 'NY', 'venues': [{'id': 4, 'name': 'The Dueling Pianos Bar', 'num_upcoming_shows': 0}]}, {'city': 'San Francisco', 'state': 'CA', 'venues': [{'id': 3, 'name': 'The Musical Hop', 'num_upcoming_shows': 0}, {'id': 5, 'name': 'Park Square Live Music & Coffee', 'num_upcoming_shows': 3}]}]\n"
     ]
    }
   ],
   "source": [
    "venues_by_cities = db.session.query(Venue).outerjoin(Show_Table) \\\n",
    "    .with_entities(Venue.city, Venue).group_by(Venue.city, Venue).all()\n",
    "\n",
    "data = []\n",
    "aggregated_sum = 0\n",
    "for (a_city, a_venue) in venues_by_cities:\n",
    "\n",
    "    data_ptr = [element for element in data if element['city'] == a_city]\n",
    "\n",
    "    for show in a_venue.shows:\n",
    "        if show.start_time > datetime.today():\n",
    "            aggregated_sum = aggregated_sum + 1\n",
    "\n",
    "    new_venue_info = {\n",
    "        \"id\": a_venue.id,\n",
    "        \"name\": a_venue.name,\n",
    "        \"num_upcoming_shows\": aggregated_sum}\n",
    "\n",
    "\n",
    "    if not data_ptr:\n",
    "        # add new city\n",
    "        new_element = {\n",
    "            'city': a_venue.city,\n",
    "            'state': a_venue.state,\n",
    "            'venues': [new_venue_info]}\n",
    "        data.append(new_element)\n",
    "    else:\n",
    "        # city exits, add the venue only\n",
    "        data_ptr[0]['venues'].append(new_venue_info)\n",
    "\n",
    "\n",
    "print(data)\n",
    "\n",
    "\n"
   ],
   "metadata": {
    "collapsed": false,
    "pycharm": {
     "name": "#%%\n"
    }
   }
  },
  {
   "cell_type": "code",
   "execution_count": 161,
   "outputs": [
    {
     "name": "stdout",
     "output_type": "stream",
     "text": [
      "[{'city': 'New York', 'state': 'NY', 'venues': [{'id': 4, 'name': 'The Dueling Pianos Bar', 'num_upcoming_shows': 0}]}, {'city': 'San Francisco', 'state': 'CA', 'venues': [{'id': 3, 'name': 'The Musical Hop', 'num_upcoming_shows': 0}, {'id': 5, 'name': 'Park Square Live Music & Coffee', 'num_upcoming_shows': 3}]}]\n"
     ]
    }
   ],
   "source": [
    "import logging\n",
    "\n",
    "try:\n",
    "    cities_lst = [city[0] for city in Venue.query.with_entities(Venue.city).group_by(Venue.city).all()]\n",
    "\n",
    "    aggregated_sum = 0\n",
    "    data =[]\n",
    "    for city in cities_lst:\n",
    "\n",
    "        city_by_venue = db.session.query(Venue).outerjoin(Show_Table)\\\n",
    "            .filter(Venue.city==city).all()\n",
    "\n",
    "        venue_lst = []\n",
    "        for venue in city_by_venue:\n",
    "            num_upcoming = sum(map( lambda record: record.start_time >= datetime.today(), venue.shows ))\n",
    "            aggregated_sum = aggregated_sum + num_upcoming\n",
    "            venue_info = { \"id\": venue.id,\n",
    "                           \"name\": venue.name,\n",
    "                           \"num_upcoming_shows\": aggregated_sum}\n",
    "            venue_lst.append(venue_info)\n",
    "\n",
    "        city_info = {\n",
    "            'city': venue.city,\n",
    "            'state': venue.state,\n",
    "            'venues': venue_lst}\n",
    "\n",
    "        data.append(city_info)\n",
    "\n",
    "    print(data)\n",
    "except Exception:\n",
    "    logging.error(\"Fatal error in main loop\", exc_info=True)\n",
    "\n",
    "    db.session.rollback()\n"
   ],
   "metadata": {
    "collapsed": false,
    "pycharm": {
     "name": "#%%\n"
    }
   }
  },
  {
   "cell_type": "code",
   "execution_count": 162,
   "outputs": [
    {
     "name": "stdout",
     "output_type": "stream",
     "text": [
      "[<Show_Table 8>]\n"
     ]
    }
   ],
   "source": [
    "city_by_venue = db.session.query(Venue).outerjoin(Show_Table)\\\n",
    "                .filter(Venue.city=='San Francisco').all()\n",
    "\n",
    "print(city_by_venue[0].shows)\n"
   ],
   "metadata": {
    "collapsed": false,
    "pycharm": {
     "name": "#%%\n"
    }
   }
  },
  {
   "cell_type": "code",
   "execution_count": 119,
   "outputs": [
    {
     "name": "stdout",
     "output_type": "stream",
     "text": [
      "[<Venue 5>]\n"
     ]
    }
   ],
   "source": [
    "try:\n",
    "\n",
    "    query = db.session.query(Venue)\\\n",
    "            .outerjoin(Show_Table)\\\n",
    "            .filter(Venue.name.ilike('%PARK%'))\n",
    "\n",
    "                  #  .group_by(Venue.id).having(db.func.count(Venue.id)>0).all()\n",
    "    print(query.all() )\n",
    "\n",
    "    query = query.filter(Show_Table.start_time>=datetime.today())\n",
    "\n",
    "\n",
    "    # Count number of venues\n",
    "    #query = db.session.query(Show_Table.start_time, db.func.count(Show_Table.start_time))\n",
    "    #query = query.group_by(Show_Table.start_time)\n",
    "    #query = query.having(db.func.count(Show_Table.start_time>datetime.today())>).all()\n",
    "    #print(query )\n",
    "except Exception:\n",
    "    logging.error(\"Fatal error in main loop\", exc_info=True)\n",
    "\n",
    "    db.session.rollback()"
   ],
   "metadata": {
    "collapsed": false,
    "pycharm": {
     "name": "#%%\n"
    }
   }
  },
  {
   "cell_type": "code",
   "execution_count": 43,
   "outputs": [
    {
     "name": "stdout",
     "output_type": "stream",
     "text": [
      "[(5,)]\n"
     ]
    }
   ],
   "source": [
    "try:\n",
    "\n",
    "#venues_by_cities = db.session.query(Venue).outerjoin(Show_Table) \\\n",
    "#    .with_entities(Venue.city, Venue).group_by(Venue.city, Venue).all()\n",
    "\n",
    "\n",
    "\n",
    "    query = db.session.query(Venue)\\\n",
    "           .outerjoin(Show_Table)\\\n",
    "           .with_entities(Venue.id)\\\n",
    "           .group_by(Venue.id)\\\n",
    "           .having(db.func.count(Venue.id) > 1)\n",
    "\n",
    "    print(query.all())\n",
    "except Exception:\n",
    "    logging.error(\"Fatal error in main loop\", exc_info=True)\n",
    "    db.session.rollback()"
   ],
   "metadata": {
    "collapsed": false,
    "pycharm": {
     "name": "#%%\n"
    }
   }
  },
  {
   "cell_type": "code",
   "execution_count": 34,
   "outputs": [],
   "source": [
    "    db.session.rollback()\n"
   ],
   "metadata": {
    "collapsed": false,
    "pycharm": {
     "name": "#%%\n"
    }
   }
  },
  {
   "cell_type": "code",
   "execution_count": 35,
   "outputs": [
    {
     "name": "stdout",
     "output_type": "stream",
     "text": [
      "[(3, 5)]\n"
     ]
    }
   ],
   "source": [
    "try:\n",
    "\n",
    "#venues_by_cities = db.session.query(Venue).outerjoin(Show_Table) \\\n",
    "#    .with_entities(Venue.city, Venue).group_by(Venue.city, Venue).all()\n",
    "\n",
    "\n",
    "\n",
    "    query = db.session.query(db.func.count('*'), Show_Table.venue_id)\\\n",
    "           .group_by(Show_Table.venue_id)\\\n",
    "           .filter(Show_Table.start_time>=datetime.today())\\\n",
    "           .having(db.func.count('*')>=1)\n",
    "\n",
    "    print(query.all())\n",
    "except Exception:\n",
    "    logging.error(\"Fatal error in main loop\", exc_info=True)\n",
    "    db.session.rollback()"
   ],
   "metadata": {
    "collapsed": false,
    "pycharm": {
     "name": "#%%\n"
    }
   }
  },
  {
   "cell_type": "code",
   "execution_count": 53,
   "outputs": [
    {
     "name": "stdout",
     "output_type": "stream",
     "text": [
      "[(<Venue 5>, 3)]\n"
     ]
    }
   ],
   "source": [
    "try:\n",
    "\n",
    "#venues_by_cities = db.session.query(Venue).outerjoin(Show_Table) \\\n",
    "#    .with_entities(Venue.city, Venue).group_by(Venue.city, Venue).all()\n",
    "\n",
    "    query = db.session.query(Venue, db.func.count('num_upcoming_shows'))\\\n",
    "           .outerjoin(Show_Table)\\\n",
    "           .group_by(Venue.id)\\\n",
    "           .filter(Show_Table.start_time>=datetime.today())\\\n",
    "           .having(db.func.count('num_upcoming_shows')>0)\n",
    "\n",
    "    print(query.all())\n",
    "except Exception:\n",
    "    logging.error(\"Fatal error in main loop\", exc_info=True)\n",
    "    db.session.rollback()"
   ],
   "metadata": {
    "collapsed": false,
    "pycharm": {
     "name": "#%%\n"
    }
   }
  },
  {
   "cell_type": "code",
   "execution_count": 118,
   "outputs": [
    {
     "name": "stdout",
     "output_type": "stream",
     "text": [
      "[{'city': 'New York', 'state': 'NY', 'venues': [{'id': 4, 'name': 'The Dueling Pianos Bar', 'num_upcoming_shows': 0}]}, {'city': 'San Francisco', 'state': 'CA', 'venues': [{'id': 3, 'name': 'The Musical Hop', 'num_upcoming_shows': 0}, {'id': 5, 'name': 'Park Square Live Music & Coffee', 'num_upcoming_shows': 3}]}]\n"
     ]
    }
   ],
   "source": [
    "try:\n",
    "\n",
    "   # cities_lst = [city[0] for city in  db.session.query(Venue).group_by(Venue.city).all()]\n",
    "\n",
    "\n",
    "    cities = [r.city for r in db.session.query(Venue.city).distinct()]\n",
    "\n",
    "    data = []\n",
    "    aggregated_sum = 0\n",
    "    for city_name in cities:\n",
    "\n",
    "        query = db.session.query(Venue, db.func.count('num_upcoming_shows'))\\\n",
    "                .outerjoin(Show_Table)\\\n",
    "                .filter(Venue.city == city_name)\\\n",
    "                .group_by(Venue.id)\\\n",
    "                .having(db.func.count('num_upcoming_shows')>0)\n",
    "        venues = [ venue for (venue, numShows) in query.all()]\n",
    "\n",
    "        upcomingShows_LUT = dict( query\n",
    "                                 .filter(Show_Table.start_time>=datetime.today())\n",
    "                                 .all())\n",
    "\n",
    "\n",
    "        venue_lst = []\n",
    "        for venue in venues:\n",
    "\n",
    "             aggregated_sum = aggregated_sum + upcomingShows_LUT.get(venue, 0)\n",
    "             venue_info = {\"id\": venue.id,\n",
    "                          \"name\": venue.name,\n",
    "                          \"num_upcoming_shows\": aggregated_sum}\n",
    "             venue_lst.append(venue_info)\n",
    "\n",
    "        city_info = {\n",
    "            'city': venue.city,\n",
    "            'state': venue.state,\n",
    "            'venues': venue_lst}\n",
    "\n",
    "        data.append(city_info)\n",
    "\n",
    "    print(data)\n",
    "\n",
    "\n",
    "except Exception:\n",
    "    logging.error(\"Fatal error in main loop\", exc_info=True)\n",
    "    db.session.rollback()"
   ],
   "metadata": {
    "collapsed": false,
    "pycharm": {
     "name": "#%%\n"
    }
   }
  },
  {
   "cell_type": "code",
   "execution_count": 120,
   "outputs": [
    {
     "name": "stdout",
     "output_type": "stream",
     "text": [
      "[<Venue 4>]\n"
     ]
    }
   ],
   "source": [
    "try:\n",
    "    query = db.session.query(Venue, db.func.count('num_upcoming_shows'))\\\n",
    "            .outerjoin(Show_Table)\\\n",
    "            .filter(Venue.city == 'New York')\\\n",
    "            .group_by(Venue.id)\\\n",
    "            .having(db.func.count('num_upcoming_shows')>0)\n",
    "    venues = [ venue for (venue, numShows) in query.all()]\n",
    "\n",
    "    print(venues)\n",
    "    upcomingShows_LUT = dict( query\n",
    "                             .filter(Show_Table.start_time>=datetime.today())\n",
    "                             .all())\n",
    "\n",
    "\n",
    "    venue_lst = []\n",
    "    for venue in venues:\n",
    "\n",
    "         venue_info = {\"id\": venue.id,\n",
    "                      \"name\": venue.name,\n",
    "                      \"num_upcoming_shows\": upcomingShows_LUT.get(venue, 0)}\n",
    "         venue_lst.append(venue_info)\n",
    "\n",
    "\n",
    "\n",
    "\n",
    "except Exception:\n",
    "    logging.error(\"Fatal error in main loop\", exc_info=True)\n",
    "    db.session.rollback()"
   ],
   "metadata": {
    "collapsed": false,
    "pycharm": {
     "name": "#%%\n"
    }
   }
  },
  {
   "cell_type": "code",
   "execution_count": 44,
   "outputs": [
    {
     "name": "stdout",
     "output_type": "stream",
     "text": [
      "[<Show_Table 9>, <Show_Table 10>, <Show_Table 11>, <Show_Table 12>]\n",
      "{'count': 1, 'data': [{'id': 5, 'name': 'Park Square Live Music & Coffee', 'num_upcoming_shows': 3}]}\n"
     ]
    }
   ],
   "source": [
    "search_term = 'Live'\n",
    "\n",
    "search_term = \"%{}%\".format(search_term)\n",
    "\n",
    "query = db.session.query(Venue, db.func.count('num_upcoming_shows'))\\\n",
    "        .outerjoin(Show_Table)\\\n",
    "        .filter(Venue.name.ilike(search_term))\\\n",
    "        .group_by(Venue.id)\\\n",
    "        .having(db.func.count('num_upcoming_shows')>0)\n",
    "\n",
    "response = {'count': query.count()}\n",
    "\n",
    "venues = [ venue for (venue, numShows) in query.all()]\n",
    "\n",
    "upcomingShows_LUT = dict( query\n",
    "                         .filter(Show_Table.start_time>=datetime.today())\n",
    "                         .all() )\n",
    "\n",
    "\n",
    "data = []\n",
    "aggregated_sum = 0\n",
    "for venue in venues:\n",
    "\n",
    "     aggregated_sum = aggregated_sum + upcomingShows_LUT.get(venue, 0)\n",
    "     venue_info = {\"id\": venue.id,\n",
    "                  \"name\": venue.name,\n",
    "                  \"num_upcoming_shows\": aggregated_sum}\n",
    "     data.append(venue_info)\n",
    "\n",
    "response['data'] = data\n",
    "\n",
    "print(response)"
   ],
   "metadata": {
    "collapsed": false,
    "pycharm": {
     "name": "#%%\n"
    }
   }
  },
  {
   "cell_type": "code",
   "execution_count": 140,
   "outputs": [
    {
     "name": "stderr",
     "output_type": "stream",
     "text": [
      "ERROR:root:Fatal error in main loop\n",
      "Traceback (most recent call last):\n",
      "  File \"/home/alvaro/PycharmProjects/FullStack_Project1/FSND/projects/01_fyyur/venv/lib/python3.8/site-packages/sqlalchemy/sql/elements.py\", line 747, in __getattr__\n",
      "    return getattr(self.comparator, key)\n",
      "AttributeError: 'Comparator' object has no attribute 'test'\n",
      "\n",
      "The above exception was the direct cause of the following exception:\n",
      "\n",
      "Traceback (most recent call last):\n",
      "  File \"<ipython-input-140-433040d8fcd9>\", line 8, in <module>\n",
      "    print(query.test)\n",
      "  File \"/home/alvaro/PycharmProjects/FullStack_Project1/FSND/projects/01_fyyur/venv/lib/python3.8/site-packages/sqlalchemy/sql/elements.py\", line 749, in __getattr__\n",
      "    util.raise_(\n",
      "  File \"/home/alvaro/PycharmProjects/FullStack_Project1/FSND/projects/01_fyyur/venv/lib/python3.8/site-packages/sqlalchemy/util/compat.py\", line 182, in raise_\n",
      "    raise exception\n",
      "AttributeError: Neither 'Label' object nor 'Comparator' object has an attribute 'test'\n"
     ]
    }
   ],
   "source": [
    "try:\n",
    "    query = db.session.query(Venue, db.func.count('num_upcoming_shows'))\\\n",
    "            .outerjoin(Show_Table)\\\n",
    "            .filter(Venue.city == 'New York')\\\n",
    "            .group_by(Venue.id)\\\n",
    "            .having(db.func.count('num_upcoming_shows')>0)\\\n",
    "            .label('test')\n",
    "    print(query.test)\n",
    "\n",
    "\n",
    "\n",
    "except Exception:\n",
    "    logging.error(\"Fatal error in main loop\", exc_info=True)\n",
    "    db.session.rollback()"
   ],
   "metadata": {
    "collapsed": false,
    "pycharm": {
     "name": "#%%\n"
    }
   }
  },
  {
   "cell_type": "code",
   "execution_count": 5,
   "outputs": [
    {
     "name": "stdout",
     "output_type": "stream",
     "text": [
      "{'count': 3, 'data': [{'id': 3, 'name': 'The Wild Sax Band', 'num_upcoming_shows': 3}, {'id': 1, 'name': 'Guns N Petals', 'num_upcoming_shows': 0}, {'id': 2, 'name': 'Matt Quevedo', 'num_upcoming_shows': 0}]}\n"
     ]
    }
   ],
   "source": [
    "search_term = 'a'\n",
    "\n",
    "search_term = \"%{}%\".format(search_term)\n",
    "\n",
    "query = db.session.query(Artist, db.func.count('num_upcoming_shows'))\\\n",
    "        .outerjoin(Show_Table)\\\n",
    "        .filter(Artist.name.ilike(search_term))\\\n",
    "        .group_by(Artist.id)\\\n",
    "        .having(db.func.count('num_upcoming_shows')>0)\n",
    "\n",
    "response = {'count': query.count()}\n",
    "\n",
    "artists = [ artist for (artist, numShows) in query.all()]\n",
    "\n",
    "upcomingShows_LUT = dict( query\n",
    "                         .filter(Show_Table.start_time>=datetime.today())\n",
    "                         .all())\n",
    "data = []\n",
    "aggregated_sum = 0\n",
    "for artist in artists:\n",
    "\n",
    "     artist_info = {\"id\": artist.id,\n",
    "                  \"name\": artist.name,\n",
    "                  \"num_upcoming_shows\": upcomingShows_LUT.get(artist, 0)}\n",
    "     data.append(artist_info)\n",
    "\n",
    "response['data'] = data\n",
    "\n",
    "print(response)"
   ],
   "metadata": {
    "collapsed": false,
    "pycharm": {
     "name": "#%%\n"
    }
   }
  },
  {
   "cell_type": "code",
   "execution_count": 82,
   "outputs": [
    {
     "name": "stdout",
     "output_type": "stream",
     "text": [
      "{'_sa_instance_state': <sqlalchemy.orm.state.InstanceState object at 0x7fa13782cf10>, 'seeking_talent': False, 'facebook_link': 'https://www.facebook.com/theduelingpianos', 'genres': ['Classical', 'Hip-Hop', 'R&B'], 'phone': '914-003-1132', 'state': 'NY', 'name': 'The Dueling Pianos Bar', 'seeking_description': '', 'website': 'https://www.theduelingpianos.com', 'image_link': 'https://images.unsplash.com/photo-1497032205916-ac775f0649ae?ixlib=rb-1.2.1&ixid=eyJhcHBfaWQiOjEyMDd9&auto=format&fit=crop&w=750&q=80', 'address': '335 Delancey Street', 'city': 'New York', 'id': 4, 'upcoming_shows': [], 'upcoming_shows_count': 0, 'past_shows': [], 'past_shows_count': 0}\n"
     ]
    }
   ],
   "source": [
    "try:\n",
    "    venue_id = 4\n",
    "\n",
    "    query_venue =  db.session.query(Venue)\\\n",
    "                   .filter(Venue.id == venue_id)\n",
    "\n",
    "    data = query_venue.all()[0].__dict__\n",
    "\n",
    "    query = db.session.query(Show_Table)\\\n",
    "            .outerjoin(Venue)\\\n",
    "            .filter(Show_Table.venue_id == venue_id)\n",
    "\n",
    "    upcoming_shows_query = query\\\n",
    "            .filter(Show_Table.start_time>=datetime.today())\n",
    "\n",
    "    result = []\n",
    "    for show in upcoming_shows_query.all():\n",
    "        element = {\n",
    "            \"artist_id\": show.artists.id,\n",
    "            \"artist_name\": show.artists.name,\n",
    "            \"artist_image_link\": show.artists.image_link,\n",
    "            \"start_time\": str(show.start_time)}\n",
    "        result.append(element)\n",
    "\n",
    "    data[\"upcoming_shows\"] = result\n",
    "    data[\"upcoming_shows_count\"] = upcoming_shows_query.count()\n",
    "\n",
    "    past_shows_query = query\\\n",
    "            .filter(Show_Table.start_time<datetime.today())\n",
    "\n",
    "    result = []\n",
    "    for show in past_shows_query.all():\n",
    "        element = {\n",
    "            \"artist_id\": show.artists.id,\n",
    "            \"artist_name\": show.artists.name,\n",
    "            \"artist_image_link\": show.artists.image_link,\n",
    "            \"start_time\": str(show.start_time)}\n",
    "        result.append(element)\n",
    "\n",
    "    data[\"past_shows\"] = result\n",
    "    data[\"past_shows_count\"] = past_shows_query.count()\n",
    "\n",
    "    print(data)\n",
    "except Exception:\n",
    "    logging.error(\"Fatal error in main loop\", exc_info=True)\n",
    "    db.session.rollback()"
   ],
   "metadata": {
    "collapsed": false,
    "pycharm": {
     "name": "#%%\n"
    }
   }
  },
  {
   "cell_type": "code",
   "execution_count": 88,
   "outputs": [
    {
     "name": "stdout",
     "output_type": "stream",
     "text": [
      "[]\n"
     ]
    }
   ],
   "source": [
    "try:\n",
    "    venue_id = 44\n",
    "\n",
    "    query_venue =  db.session.query(Venue)\\\n",
    "                   .filter(Venue.id == venue_id)\n",
    "\n",
    "    data = query_venue\n",
    "\n",
    "\n",
    "    print(data.all())\n",
    "except Exception:\n",
    "    logging.error(\"Fatal error in main loop\", exc_info=True)\n",
    "    db.session.rollback()"
   ],
   "metadata": {
    "collapsed": false,
    "pycharm": {
     "name": "#%%\n"
    }
   }
  },
  {
   "cell_type": "code",
   "execution_count": 89,
   "outputs": [
    {
     "name": "stdout",
     "output_type": "stream",
     "text": [
      "{'_sa_instance_state': <sqlalchemy.orm.state.InstanceState object at 0x7fa139cf5c70>, 'seeking_venue': False, 'seeking_description': '', 'facebook_link': 'https://www.facebook.com/mattquevedo923251523', 'genres': ['Jazz'], 'state': 'NY', 'name': 'Matt Quevedo', 'website': '', 'image_link': 'https://images.unsplash.com/photo-1495223153807-b916f75de8c5?ixlib=rb-1.2.1&ixid=eyJhcHBfaWQiOjEyMDd9&auto=format&fit=crop&w=334&q=80', 'phone': '300-400-5000', 'city': 'New York', 'id': 2, 'upcoming_shows': [], 'upcoming_shows_count': 0, 'past_shows': [{'venue_id': 5, 'venue_name': 'Park Square Live Music & Coffee', 'venue_image_link': 'https://images.unsplash.com/photo-1485686531765-ba63b07845a7?ixlib=rb-1.2.1&ixid=eyJhcHBfaWQiOjEyMDd9&auto=format&fit=crop&w=747&q=80', 'start_time': '2019-06-15 23:00:00'}], 'past_shows_count': 1}\n"
     ]
    }
   ],
   "source": [
    "\n",
    "try:\n",
    "    artist_id = 2\n",
    "\n",
    "    query_artist =  db.session.query(Artist)\\\n",
    "                   .filter(Artist.id == artist_id)\n",
    "\n",
    "    data = query_artist.all()[0].__dict__\n",
    "\n",
    "    query = db.session.query(Show_Table)\\\n",
    "            .outerjoin(Artist)\\\n",
    "            .filter(Show_Table.artist_id == artist_id)\n",
    "\n",
    "    upcoming_shows_query = query\\\n",
    "            .filter(Show_Table.start_time>=datetime.today())\n",
    "\n",
    "    result = []\n",
    "    for show in upcoming_shows_query.all():\n",
    "        element = {\n",
    "            \"venue_id\": show.venues.id,\n",
    "            \"venue_name\": show.venues.name,\n",
    "            \"venue_image_link\": show.venues.image_link,\n",
    "            \"start_time\": str(show.start_time)}\n",
    "        result.append(element)\n",
    "\n",
    "    data[\"upcoming_shows\"] = result\n",
    "    data[\"upcoming_shows_count\"] = upcoming_shows_query.count()\n",
    "\n",
    "    past_shows_query = query\\\n",
    "            .filter(Show_Table.start_time<datetime.today())\n",
    "\n",
    "    result = []\n",
    "    for show in past_shows_query.all():\n",
    "        element = {\n",
    "            \"venue_id\": show.venues.id,\n",
    "            \"venue_name\": show.venues.name,\n",
    "            \"venue_image_link\": show.venues.image_link,\n",
    "            \"start_time\": str(show.start_time)}\n",
    "        result.append(element)\n",
    "\n",
    "    data[\"past_shows\"] = result\n",
    "    data[\"past_shows_count\"] = past_shows_query.count()\n",
    "\n",
    "    print(data)\n",
    "except Exception:\n",
    "    logging.error(\"Fatal error in main loop\", exc_info=True)\n",
    "    db.session.rollback()"
   ],
   "metadata": {
    "collapsed": false,
    "pycharm": {
     "name": "#%%\n"
    }
   }
  },
  {
   "cell_type": "code",
   "execution_count": 96,
   "outputs": [
    {
     "name": "stdout",
     "output_type": "stream",
     "text": [
      "<Artist 1>\n"
     ]
    }
   ],
   "source": [
    "query = Show_Table.query.join(Venue, Artist)\n",
    "\n",
    "print( query.all()[0].artists)"
   ],
   "metadata": {
    "collapsed": false,
    "pycharm": {
     "name": "#%%\n"
    }
   }
  }
 ],
 "metadata": {
  "kernelspec": {
   "display_name": "Python 3",
   "language": "python",
   "name": "python3"
  },
  "language_info": {
   "codemirror_mode": {
    "name": "ipython",
    "version": 2
   },
   "file_extension": ".py",
   "mimetype": "text/x-python",
   "name": "python",
   "nbconvert_exporter": "python",
   "pygments_lexer": "ipython2",
   "version": "2.7.6"
  }
 },
 "nbformat": 4,
 "nbformat_minor": 0
}